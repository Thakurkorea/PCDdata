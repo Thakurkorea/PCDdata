{
 "cells": [
  {
   "cell_type": "code",
   "execution_count": 6,
   "id": "311481a8",
   "metadata": {},
   "outputs": [
    {
     "name": "stdout",
     "output_type": "stream",
     "text": [
      "C:\\Users\\holiday\\1Lidar\n",
      "d:\\project\\2023\\lidar\\data\n"
     ]
    }
   ],
   "source": [
    "import os\n",
    "print(os.getcwd())\n",
    "os.chdir('d:/project/2023/lidar/data')\n",
    "print(os.getcwd())"
   ]
  },
  {
   "cell_type": "code",
   "execution_count": 7,
   "id": "285c620b",
   "metadata": {},
   "outputs": [],
   "source": [
    "import open3d as o3d\n",
    "import numpy as np\n",
    "\n",
    "N=1000\n",
    "#pcd = o3d.io.read_point_cloud('d:/project/2023/lidar/data/output_merged.pcd')\n",
    "pcd = o3d.io.read_point_cloud('merged/out1203.pcd')\n",
    "#pcd = o3d.io.read_point_cloud('d:/project/2023/lidar/data/a1.pcd')\n",
    "# fit to unit cube\n",
    "pcd.scale(1 / np.max(pcd.get_max_bound() - pcd.get_min_bound()),\n",
    "          center=pcd.get_center())\n",
    "pcd.colors = o3d.utility.Vector3dVector(np.random.uniform(0, 1, size=(N, 3)))\n",
    "o3d.visualization.draw_geometries([pcd])"
   ]
  },
  {
   "cell_type": "code",
   "execution_count": 8,
   "id": "04c7c655",
   "metadata": {},
   "outputs": [
    {
     "name": "stdout",
     "output_type": "stream",
     "text": [
      "octree division\n"
     ]
    }
   ],
   "source": [
    "print('octree division')\n",
    "octree = o3d.geometry.Octree(max_depth=6)\n",
    "octree.convert_from_point_cloud(pcd, size_expand=0.01)\n",
    "o3d.visualization.draw_geometries([octree])"
   ]
  },
  {
   "cell_type": "code",
   "execution_count": 15,
   "id": "5c6a338c",
   "metadata": {},
   "outputs": [
    {
     "name": "stdout",
     "output_type": "stream",
     "text": [
      "octree division\n"
     ]
    }
   ],
   "source": [
    "print('octree division')\n",
    "octree = o3d.geometry.Octree(max_depth=8)\n",
    "octree.create_from_voxel_grid(voxel_grid)\n",
    "o3d.visualization.draw_geometries([octree])"
   ]
  },
  {
   "cell_type": "code",
   "execution_count": 19,
   "id": "f4421e0b",
   "metadata": {},
   "outputs": [
    {
     "name": "stdout",
     "output_type": "stream",
     "text": [
      "voxelization\n"
     ]
    }
   ],
   "source": [
    "print('voxelization')\n",
    "voxel_grid = o3d.geometry.VoxelGrid.create_from_point_cloud(pcd,\n",
    "                                                            voxel_size=0.001)\n",
    "o3d.visualization.draw_geometries([voxel_grid])"
   ]
  },
  {
   "cell_type": "code",
   "execution_count": 18,
   "id": "e8f6b8e4",
   "metadata": {},
   "outputs": [
    {
     "name": "stdout",
     "output_type": "stream",
     "text": [
      "Voxel Grid Size: [0.71 1.01 0.19]\n"
     ]
    }
   ],
   "source": [
    "grid_size = voxel_grid.get_max_bound() - voxel_grid.get_min_bound()\n",
    "print(f\"Voxel Grid Size: {grid_size}\")"
   ]
  },
  {
   "cell_type": "code",
   "execution_count": null,
   "id": "18ba660c",
   "metadata": {},
   "outputs": [],
   "source": []
  }
 ],
 "metadata": {
  "kernelspec": {
   "display_name": "Python 3 (ipykernel)",
   "language": "python",
   "name": "python3"
  },
  "language_info": {
   "codemirror_mode": {
    "name": "ipython",
    "version": 3
   },
   "file_extension": ".py",
   "mimetype": "text/x-python",
   "name": "python",
   "nbconvert_exporter": "python",
   "pygments_lexer": "ipython3",
   "version": "3.9.18"
  }
 },
 "nbformat": 4,
 "nbformat_minor": 5
}
