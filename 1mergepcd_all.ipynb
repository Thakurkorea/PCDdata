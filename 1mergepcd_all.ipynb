{
  "cells": [
    {
      "cell_type": "code",
      "execution_count": null,
      "metadata": {
        "id": "7-LWI6KKr9q4"
      },
      "outputs": [],
      "source": [
        "!mv /content/*.pcd /content/pcd"
      ],
      "id": "7-LWI6KKr9q4"
    },
    {
      "cell_type": "code",
      "execution_count": null,
      "metadata": {
        "id": "wNZhsmrssuOe"
      },
      "outputs": [],
      "source": [
        "pip install open3d"
      ],
      "id": "wNZhsmrssuOe"
    },
    {
      "cell_type": "code",
      "execution_count": null,
      "metadata": {
        "id": "_NY9DrH4spif"
      },
      "outputs": [],
      "source": [
        "import open3d"
      ],
      "id": "_NY9DrH4spif"
    },
    {
      "cell_type": "code",
      "execution_count": null,
      "metadata": {
        "colab": {
          "base_uri": "https://localhost:8080/"
        },
        "id": "39f5df4b",
        "outputId": "72843a4a-1237-4dac-d988-14c09bfe94c7"
      },
      "outputs": [
        {
          "name": "stdout",
          "output_type": "stream",
          "text": [
            "/content\n",
            "/content/pcd\n"
          ]
        }
      ],
      "source": [
        "import os\n",
        "print(os.getcwd())\n",
        "os.chdir('pcd')\n",
        "print(os.getcwd())"
      ],
      "id": "39f5df4b"
    },
    {
      "cell_type": "code",
      "execution_count": null,
      "metadata": {
        "id": "5769a640"
      },
      "outputs": [],
      "source": [
        "# pcd 파일들이 D:/project/2023/lidar/python/pcd 폴드에 있는 경우\n",
        "!python /content/mergepcd3.py /content/pcd /content/out1203.pcd"
      ],
      "id": "5769a640"
    },
    {
      "cell_type": "code",
      "execution_count": null,
      "metadata": {
        "id": "9de13c9f"
      },
      "outputs": [],
      "source": [
        "!python /content/pcdtolas.py /content/out1203.pcd /content/out1203.las"
      ],
      "id": "9de13c9f"
    },
    {
      "cell_type": "code",
      "execution_count": null,
      "metadata": {
        "id": "ZkuXPugbq54h"
      },
      "outputs": [],
      "source": [
        "# pip install laspy"
      ],
      "id": "ZkuXPugbq54h"
    },
    {
      "cell_type": "code",
      "execution_count": null,
      "metadata": {
        "id": "95d75e4c"
      },
      "outputs": [],
      "source": [
        "import laspy\n",
        "import os\n",
        "\n",
        "def append_to_las(in_las, out_las):\n",
        "    with laspy.open(out_las, mode='a') as outlas:\n",
        "        with laspy.open(in_las) as inlas:\n",
        "            for points in inlas.chunk_iterator(2_000_000):\n",
        "                outlas.append_points(points)\n",
        "\n",
        "# Specify the directory containing your input LAS files\n",
        "inDir = 'out'\n",
        "\n",
        "# Specify the path to the output LAS file\n",
        "out_las = 'merged/m1_32.las'\n",
        "\n",
        "# Append the points from each LAS file to the output file\n",
        "for (dirpath, dirnames, filenames) in os.walk(inDir):\n",
        "    for inFile in filenames:\n",
        "        if inFile.endswith('.las'):\n",
        "            in_las = os.path.join(dirpath, inFile)\n",
        "            append_to_las(in_las, out_las)"
      ],
      "id": "95d75e4c"
    },
    {
      "cell_type": "code",
      "execution_count": null,
      "metadata": {
        "id": "68ee078e"
      },
      "outputs": [],
      "source": [
        "import laspy\n",
        "import numpy as np\n",
        "\n",
        "def rotate_point(point, angle_degrees):\n",
        "    # Rotate a 2D point around the origin\n",
        "    x, y = point\n",
        "    angle_radians = np.radians(angle_degrees)\n",
        "    x_rotated = x * np.cos(angle_radians) - y * np.sin(angle_radians)\n",
        "    y_rotated = x * np.sin(angle_radians) + y * np.cos(angle_radians)\n",
        "    return x_rotated, y_rotated\n",
        "\n",
        "# Read a LAS file\n",
        "#las_file = laspy.read(\"merged/m1_32.las\")\n",
        "las_file = laspy.read(\"/content/out1203.las\")\n",
        "\n",
        "# Access the x, y, z coordinates of the points\n",
        "x = las_file.x\n",
        "y = las_file.y\n",
        "z = las_file.z\n",
        "\n",
        "# Rotate the coordinates by degrees\n",
        "for i in range(len(las_file.points)):\n",
        "    x[i], y[i] = rotate_point((x[i], y[i]), 90)\n",
        "\n",
        "# Modify the values if needed\n",
        "# For example, you could add 10 to all x coordinates\n",
        "las_file.x += 478161\n",
        "las_file.y += 3965697\n",
        "las_file.z += 72\n",
        "\n",
        "# Save the modified LAS file\n",
        "las_file.write(\"m1_32_utm_1203_1.las\")"
      ],
      "id": "68ee078e"
    },
    {
      "cell_type": "code",
      "execution_count": null,
      "metadata": {
        "colab": {
          "base_uri": "https://localhost:8080/",
          "height": 35
        },
        "id": "t4ts2WOauc43",
        "outputId": "87dbe298-9fe6-4e01-d409-0bee4c175c58"
      },
      "outputs": [
        {
          "data": {
            "application/vnd.google.colaboratory.intrinsic+json": {
              "type": "string"
            },
            "text/plain": [
              "'/content/pcd'"
            ]
          },
          "execution_count": 26,
          "metadata": {},
          "output_type": "execute_result"
        }
      ],
      "source": [
        "pwd"
      ],
      "id": "t4ts2WOauc43"
    },
    {
      "cell_type": "code",
      "execution_count": null,
      "metadata": {
        "id": "89e5925a"
      },
      "outputs": [],
      "source": [
        "import laspy\n",
        "\n",
        "# Read a LAS file\n",
        "las_file = laspy.read(\"merged/m1_32.las\")\n",
        "\n",
        "# Access the x, y, z coordinates of the points\n",
        "x = las_file.x\n",
        "y = las_file.y\n",
        "z = las_file.z\n",
        "\n",
        "# Modify the values if needed\n",
        "# For example, you could add 10 to all x coordinates\n",
        "las_file.x += 478114\n",
        "las_file.y += 3965734\n",
        "las_file.z += 72\n",
        "\n",
        "# Save the modified LAS file\n",
        "las_file.write(\"merged/m1_32_utm.las\")"
      ],
      "id": "89e5925a"
    },
    {
      "cell_type": "code",
      "execution_count": null,
      "metadata": {
        "id": "c3465f7b"
      },
      "outputs": [],
      "source": [
        "import open3d as o3d\n",
        "import numpy as np\n",
        "\n",
        "N=1000\n",
        "#pcd = o3d.io.read_point_cloud('d:/project/2023/lidar/data/output_merged.pcd')\n",
        "pcd = o3d.io.read_point_cloud('/content/out1203.pcd')\n",
        "#pcd = o3d.io.read_point_cloud('d:/project/2023/lidar/data/a1.pcd')\n",
        "# fit to unit cube\n",
        "pcd.scale(1 / np.max(pcd.get_max_bound() - pcd.get_min_bound()),\n",
        "          center=pcd.get_center())\n",
        "pcd.colors = o3d.utility.Vector3dVector(np.random.uniform(0, 1, size=(N, 3)))\n",
        "o3d.visualization.draw_geometries([pcd])"
      ],
      "id": "c3465f7b"
    },
    {
      "cell_type": "code",
      "source": [
        "import open3d as o3d\n",
        "import numpy as np\n",
        "\n",
        "N=1000\n",
        "#pcd = o3d.io.read_point_cloud('d:/project/2023/lidar/data/output_merged.pcd')\n",
        "pcd = o3d.io.read_point_cloud('merged/out1203.pcd')\n",
        "#pcd = o3d.io.read_point_cloud('d:/project/2023/lidar/data/a1.pcd')\n",
        "# fit to unit cube\n",
        "pcd.scale(1 / np.max(pcd.get_max_bound() - pcd.get_min_bound()),\n",
        "          center=pcd.get_center())\n",
        "pcd.colors = o3d.utility.Vector3dVector(np.random.uniform(0, 1, size=(N, 3)))\n",
        "o3d.visualization.draw_geometries([pcd])"
      ],
      "metadata": {
        "id": "6y3Ci-xU2uBT"
      },
      "id": "6y3Ci-xU2uBT",
      "execution_count": null,
      "outputs": []
    },
    {
      "cell_type": "code",
      "execution_count": null,
      "metadata": {
        "colab": {
          "background_save": true
        },
        "id": "-XZbDe0KwNxR"
      },
      "outputs": [],
      "source": [
        "import open3d as o3d\n",
        "import pandas as pd\n",
        "import plotly.express as px\n",
        "# Convert point cloud to a Pandas DataFrame\n",
        "point_cloud_np = pd.DataFrame(np.asarray(pcd.points), columns=['X', 'Y', 'Z'])\n",
        "\n",
        "# Plot the point cloud using Plotly\n",
        "fig = px.scatter_3d(point_cloud_np, x='X', y='Y', z='Z', opacity=0.6)\n",
        "fig.update_layout(title='Point Cloud Visualization')\n",
        "fig.show()\n"
      ],
      "id": "-XZbDe0KwNxR"
    },
    {
      "cell_type": "code",
      "source": [
        "print('octree division')\n",
        "octree = o3d.geometry.Octree(max_depth=6)\n",
        "octree.convert_from_point_cloud(pcd, size_expand=0.01)\n",
        "o3d.visualization.draw_geometries([octree])"
      ],
      "metadata": {
        "id": "o1hfS12h2vsd"
      },
      "id": "o1hfS12h2vsd",
      "execution_count": null,
      "outputs": []
    },
    {
      "cell_type": "code",
      "source": [
        "print('octree division')\n",
        "octree = o3d.geometry.Octree(max_depth=8)\n",
        "octree.create_from_voxel_grid(voxel_grid)\n",
        "o3d.visualization.draw_geometries([octree])"
      ],
      "metadata": {
        "id": "D_rbaMbo2xaA"
      },
      "id": "D_rbaMbo2xaA",
      "execution_count": null,
      "outputs": []
    },
    {
      "cell_type": "code",
      "source": [
        "print('voxelization')\n",
        "voxel_grid = o3d.geometry.VoxelGrid.create_from_point_cloud(pcd,\n",
        "                                                            voxel_size=0.001)\n",
        "o3d.visualization.draw_geometries([voxel_grid])"
      ],
      "metadata": {
        "id": "37cof0a221Ar"
      },
      "id": "37cof0a221Ar",
      "execution_count": null,
      "outputs": []
    },
    {
      "cell_type": "code",
      "source": [
        "grid_size = voxel_grid.get_max_bound() - voxel_grid.get_min_bound()\n",
        "print(f\"Voxel Grid Size: {grid_size}\")"
      ],
      "metadata": {
        "id": "NVAl6UkC23ib"
      },
      "id": "NVAl6UkC23ib",
      "execution_count": null,
      "outputs": []
    }
  ],
  "metadata": {
    "colab": {
      "provenance": []
    },
    "kernelspec": {
      "display_name": "Python 3 (ipykernel)",
      "language": "python",
      "name": "python3"
    },
    "language_info": {
      "codemirror_mode": {
        "name": "ipython",
        "version": 3
      },
      "file_extension": ".py",
      "mimetype": "text/x-python",
      "name": "python",
      "nbconvert_exporter": "python",
      "pygments_lexer": "ipython3",
      "version": "3.9.18"
    }
  },
  "nbformat": 4,
  "nbformat_minor": 5
}