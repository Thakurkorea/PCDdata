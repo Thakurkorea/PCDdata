{
 "cells": [
  {
   "cell_type": "code",
   "execution_count": 1,
   "id": "39f5df4b",
   "metadata": {},
   "outputs": [
    {
     "name": "stdout",
     "output_type": "stream",
     "text": [
      "C:\\Users\\holiday\\1Lidar\n",
      "D:\\project\\2023\\lidar\\data\n"
     ]
    }
   ],
   "source": [
    "import os\n",
    "print(os.getcwd())\n",
    "os.chdir('D:/project/2023/lidar/data')\n",
    "print(os.getcwd())"
   ]
  },
  {
   "cell_type": "code",
   "execution_count": 21,
   "id": "5769a640",
   "metadata": {},
   "outputs": [],
   "source": [
    "# pcd 파일들이 D:/project/2023/lidar/python/pcd 폴드에 있는 경우\n",
    "!python D:/project/2023/lidar/python/mergepcd3.py pcd merged/out1203.pcd\n"
   ]
  },
  {
   "cell_type": "code",
   "execution_count": 22,
   "id": "9de13c9f",
   "metadata": {},
   "outputs": [],
   "source": [
    "!python D:/project/2023/lidar/python/pcdtolas.py merged/out1203.pcd out/out1203.las"
   ]
  },
  {
   "cell_type": "code",
   "execution_count": 3,
   "id": "95d75e4c",
   "metadata": {},
   "outputs": [],
   "source": [
    "import laspy\n",
    "import os\n",
    "\n",
    "def append_to_las(in_las, out_las):\n",
    "    with laspy.open(out_las, mode='a') as outlas:\n",
    "        with laspy.open(in_las) as inlas:\n",
    "            for points in inlas.chunk_iterator(2_000_000):\n",
    "                outlas.append_points(points)\n",
    "\n",
    "# Specify the directory containing your input LAS files\n",
    "inDir = 'out'\n",
    "\n",
    "# Specify the path to the output LAS file\n",
    "out_las = 'merged/m1_32.las'\n",
    "\n",
    "# Append the points from each LAS file to the output file\n",
    "for (dirpath, dirnames, filenames) in os.walk(inDir):\n",
    "    for inFile in filenames:\n",
    "        if inFile.endswith('.las'):\n",
    "            in_las = os.path.join(dirpath, inFile)\n",
    "            append_to_las(in_las, out_las)"
   ]
  },
  {
   "cell_type": "code",
   "execution_count": 24,
   "id": "68ee078e",
   "metadata": {},
   "outputs": [],
   "source": [
    "import laspy\n",
    "import numpy as np\n",
    "\n",
    "def rotate_point(point, angle_degrees):\n",
    "    # Rotate a 2D point around the origin\n",
    "    x, y = point\n",
    "    angle_radians = np.radians(angle_degrees)\n",
    "    x_rotated = x * np.cos(angle_radians) - y * np.sin(angle_radians)\n",
    "    y_rotated = x * np.sin(angle_radians) + y * np.cos(angle_radians)\n",
    "    return x_rotated, y_rotated\n",
    "\n",
    "# Read a LAS file\n",
    "#las_file = laspy.read(\"merged/m1_32.las\")\n",
    "las_file = laspy.read(\"out/out1203.las\")\n",
    "\n",
    "# Access the x, y, z coordinates of the points\n",
    "x = las_file.x\n",
    "y = las_file.y\n",
    "z = las_file.z\n",
    "\n",
    "# Rotate the coordinates by degrees\n",
    "for i in range(len(las_file.points)):\n",
    "    x[i], y[i] = rotate_point((x[i], y[i]), 90)\n",
    "    \n",
    "# Modify the values if needed\n",
    "# For example, you could add 10 to all x coordinates\n",
    "las_file.x += 478161\n",
    "las_file.y += 3965697\n",
    "las_file.z += 72\n",
    "\n",
    "# Save the modified LAS file\n",
    "las_file.write(\"out/m1_32_utm_1203_1.las\")"
   ]
  },
  {
   "cell_type": "code",
   "execution_count": 14,
   "id": "89e5925a",
   "metadata": {},
   "outputs": [],
   "source": [
    "import laspy\n",
    "\n",
    "# Read a LAS file\n",
    "las_file = laspy.read(\"merged/m1_32.las\")\n",
    "\n",
    "# Access the x, y, z coordinates of the points\n",
    "x = las_file.x\n",
    "y = las_file.y\n",
    "z = las_file.z\n",
    "\n",
    "# Modify the values if needed\n",
    "# For example, you could add 10 to all x coordinates\n",
    "las_file.x += 478114\n",
    "las_file.y += 3965734\n",
    "las_file.z += 72\n",
    "\n",
    "# Save the modified LAS file\n",
    "las_file.write(\"merged/m1_32_utm.las\")"
   ]
  },
  {
   "cell_type": "code",
   "execution_count": null,
   "id": "c3465f7b",
   "metadata": {},
   "outputs": [],
   "source": []
  }
 ],
 "metadata": {
  "kernelspec": {
   "display_name": "Python 3 (ipykernel)",
   "language": "python",
   "name": "python3"
  },
  "language_info": {
   "codemirror_mode": {
    "name": "ipython",
    "version": 3
   },
   "file_extension": ".py",
   "mimetype": "text/x-python",
   "name": "python",
   "nbconvert_exporter": "python",
   "pygments_lexer": "ipython3",
   "version": "3.9.18"
  }
 },
 "nbformat": 4,
 "nbformat_minor": 5
}
